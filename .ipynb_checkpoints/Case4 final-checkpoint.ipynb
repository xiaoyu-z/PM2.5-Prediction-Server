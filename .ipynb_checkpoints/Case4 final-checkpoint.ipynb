{
 "cells": [
  {
   "cell_type": "markdown",
   "metadata": {},
   "source": [
    "### Case Study 4 :  Data Science Shark Tank:  Pitch Your Ideas\n",
    "\n",
    "** Due Date: December 7, 6pm**\n",
    "BEFORE the beginning of class at 6:00pm\n",
    "NOTE: There are always last minute issues submitting the case studies. DO NOT WAIT UNTIL THE LAST MINUTE!\n",
    "\n",
    "<img src=\"https://cp.inkrefuge.com/images%5Cpressreleases/shark%20tank_large.jpg\" width=\"400px\"> "
   ]
  },
  {
   "cell_type": "markdown",
   "metadata": {},
   "source": [
    "After the previous 3 case studies,  your team is now equipped with the three powerful skills of data science: Hacking skill, Business skill and Math skill. In this project, your team is going to make use of these skills to come up with an idea of a new business/startup based upon data science technology. Your goal is to design a better service/solution on any data you like, develop a prototype/demo and prepare a pitch for your idea.\n",
    "* Your team needs to decide which business problem is important for the market you are joining in (for example, social media market, housing market, search market, etc.).\n",
    "* Then design a data science approach to improve one of the current services or design a new service on any data that you choose.\n",
    "* The solution should include all the three components of data science: 1) the business part to analyze the potential impact of your new/improved service, why the idea can make money, how much are you evaluating the company; How are you planing to persuade the sharks to invest in your business; 2) the mathematical part to formulate the problem and develop math solution; 3) the programming part to collect the data, implement the math solution, and develop the prototype/demo.\n",
    "* NOTE, as opposed to the first three case studies, case study 4 is much more open ended.  \n",
    "  * Business is the focus\n",
    "  * All three parts need to appear (Business, Computer Science, and Math)\n",
    "  * However, the precise balance is up to you."
   ]
  },
  {
   "cell_type": "markdown",
   "metadata": {},
   "source": [
    "# Background about Elevator Pitch (90 seconds) and Shark Tank"
   ]
  },
  {
   "cell_type": "code",
   "execution_count": 1,
   "metadata": {},
   "outputs": [
    {
     "data": {
      "image/jpeg": "[encoded data removed]",
      "text/html": [
       "\n",
       "        <iframe\n",
       "            width=\"400\"\n",
       "            height=\"300\"\n",
       "            src=\"https://www.youtube.com/embed/3UuFR4Y4uw8\"\n",
       "            frameborder=\"0\"\n",
       "            allowfullscreen\n",
       "        ></iframe>\n",
       "        "
      ],
      "text/plain": [
       "<IPython.lib.display.YouTubeVideo at 0x2ab1ba87d68>"
      ]
     },
     "execution_count": 1,
     "metadata": {},
     "output_type": "execute_result"
    }
   ],
   "source": [
    "from IPython.display import YouTubeVideo\n",
    "YouTubeVideo(\"3UuFR4Y4uw8\") "
   ]
  },
  {
   "cell_type": "code",
   "execution_count": 2,
   "metadata": {},
   "outputs": [
    {
     "data": {
      "image/jpeg": "[encoded data removed]",
      "text/html": [
       "\n",
       "        <iframe\n",
       "            width=\"400\"\n",
       "            height=\"300\"\n",
       "            src=\"https://www.youtube.com/embed/xIq8Sg59UdY\"\n",
       "            frameborder=\"0\"\n",
       "            allowfullscreen\n",
       "        ></iframe>\n",
       "        "
      ],
      "text/plain": [
       "<IPython.lib.display.YouTubeVideo at 0x1e1d529c390>"
      ]
     },
     "execution_count": 2,
     "metadata": {},
     "output_type": "execute_result"
    }
   ],
   "source": [
    "YouTubeVideo(\"xIq8Sg59UdY\") "
   ]
  },
  {
   "cell_type": "markdown",
   "metadata": {},
   "source": [
    "### Two videos on storytelling"
   ]
  },
  {
   "cell_type": "markdown",
   "metadata": {},
   "source": [
    "https://video.wpi.edu/Watch/g2T4NjBn"
   ]
  },
  {
   "cell_type": "markdown",
   "metadata": {},
   "source": [
    "https://video.wpi.edu/Watch/q2A6Dbg3"
   ]
  },
  {
   "cell_type": "markdown",
   "metadata": {},
   "source": [
    "\n",
    "**Optional Readings:** \n",
    "* LinkedIn API: https://developer.linkedin.com/docs/rest-api\n",
    "* Zillow API: https://pypi.python.org/pypi/pyzillow\n",
    "* Google Map API: https://developers.google.com/api-client-library/python/apis/mapsengine/v1?hl=en\n",
    "* More APIs: https://github.com/ptwobrussell/Mining-the-Social-Web-2nd-Edition\n",
    "\n",
    "\n",
    "** Python libraries you may want to use:**\n",
    "* Scikit-learn (http://scikit-learn.org): machine learning tools in Python.\n",
    "\n",
    "** Data sources:**\n",
    "* UCI Machine Learning Repository: http://archive.ics.uci.edu/ml/ \n",
    "* Statlib datasets: http://lib.stat.cmu.edu/\n",
    "* Kaggel: www.kaggle.com \n",
    "* Open Gov. Data: www.data.gov, www.data.gov.uk, www.data.gov.fr, http://opengovernmentdata.org/data/catalogues/   \n",
    "\n",
    "** NOTE **\n",
    "* Please don't forget to save the notebook frequently when working in IPython Notebook, otherwise the changes you made can be lost.\n",
    "\n",
    "*----------------------"
   ]
  },
  {
   "cell_type": "markdown",
   "metadata": {},
   "source": [
    "### Problem 1: the Business Part (20 points)\n",
    " As a group, learn about the data science related business and research about the current markets: such as search, social media, advertisement, recommendation and so on.\n",
    "Pick one of the markets for further consideration, and design a new service  which you believe to be important in the market. \n",
    "Define precisely in the report and briefly in the cells below, what is the business problem that your team wants to solve.\n",
    "Why the problem is important to solve? \n",
    "Why you believe you could make a big difference with data science technology.\n",
    "How are you planing to persuade the investors to buy in your idea."
   ]
  },
  {
   "cell_type": "markdown",
   "metadata": {},
   "source": [
    "**Please describe here *briefly*  (please edit this cell)**\n",
    "\n",
    "1) Your business problem to solve:\n",
    "\n",
    "* Predict future PM2.5 value in Guang Zhou\n",
    "\n",
    "2) Why the problem is important to solve? \n",
    "\n",
    "* People care about the environment they live\n",
    "* Potential profits\n",
    "\n",
    "3) What is your idea to solve the problem? \n",
    "\n",
    "* Use Time Series Analysis, Regression or Neural Network to predict the PM2.5 value\n",
    "\n",
    "4) What differences you could make with your data science approach?\n",
    "* People can know future PM2.5 value so that live a better planned live\n",
    "\n",
    "5) Why do you believe the idea deserves the investment of the \"sharks\"?\n",
    "* Potential needs\n",
    "* Ability to earn money by produciton promotion, places recommandation and web access\n",
    "\n",
    "\n",
    "\n"
   ]
  },
  {
   "cell_type": "markdown",
   "metadata": {},
   "source": [
    "### Problem 2: The Math Part (20 points)"
   ]
  },
  {
   "cell_type": "markdown",
   "metadata": {},
   "source": [
    "Define the business problem as a math problem and design a math solution to the problem.\n"
   ]
  },
  {
   "cell_type": "markdown",
   "metadata": {},
   "source": [
    "## 1) Problem formulation in Math:"
   ]
  },
  {
   "cell_type": "markdown",
   "metadata": {},
   "source": [
    "    The dataset we used for prediction is from University of California at Irvine Machine Learning Repository. It contains PM2.5 measurement records from January 1st, 2010 to December 31st, 2015 from three different weather inspection stations. The raw data has 52,584 rows and 17 features with rouphly 60% of NAs. The goal is to train these data to build model in order to predict PM2.5 in the future."
   ]
  },
  {
   "cell_type": "markdown",
   "metadata": {},
   "source": [
    "## 2) Math Solution:"
   ]
  },
  {
   "cell_type": "markdown",
   "metadata": {},
   "source": [
    "    We try to use these features in regression model to fit PM2.5 index, including multivariate linear regression, other methods like bagged tree, time series analysis (include ARIMA model and nonlinear autoregressive neural network(NAR)). "
   ]
  },
  {
   "cell_type": "markdown",
   "metadata": {},
   "source": [
    "## 3) Implementation of the Solution"
   ]
  },
  {
   "cell_type": "markdown",
   "metadata": {},
   "source": [
    "     The preprocessing is in Python, then R and Matlab are used to do the nural network, regression, tree and time series part. The code is attched below."
   ]
  },
  {
   "cell_type": "code",
   "execution_count": 2,
   "metadata": {},
   "outputs": [
    {
     "data": {
      "text/html": [
       "<div>\n",
       "<style>\n",
       "    .dataframe thead tr:only-child th {\n",
       "        text-align: right;\n",
       "    }\n",
       "\n",
       "    .dataframe thead th {\n",
       "        text-align: left;\n",
       "    }\n",
       "\n",
       "    .dataframe tbody tr th {\n",
       "        vertical-align: top;\n",
       "    }\n",
       "</style>\n",
       "<table border=\"1\" class=\"dataframe\">\n",
       "  <thead>\n",
       "    <tr style=\"text-align: right;\">\n",
       "      <th></th>\n",
       "      <th>No</th>\n",
       "      <th>year</th>\n",
       "      <th>month</th>\n",
       "      <th>day</th>\n",
       "      <th>hour</th>\n",
       "      <th>season</th>\n",
       "      <th>PM_City Station</th>\n",
       "      <th>PM_5th Middle School</th>\n",
       "      <th>PM_US Post</th>\n",
       "      <th>DEWP</th>\n",
       "      <th>HUMI</th>\n",
       "      <th>PRES</th>\n",
       "      <th>TEMP</th>\n",
       "      <th>Iws</th>\n",
       "      <th>precipitation</th>\n",
       "      <th>Iprec</th>\n",
       "    </tr>\n",
       "  </thead>\n",
       "  <tbody>\n",
       "    <tr>\n",
       "      <th>count</th>\n",
       "      <td>52584.000000</td>\n",
       "      <td>52584.000000</td>\n",
       "      <td>52584.000000</td>\n",
       "      <td>52584.000000</td>\n",
       "      <td>52584.000000</td>\n",
       "      <td>52583.000000</td>\n",
       "      <td>32352.000000</td>\n",
       "      <td>21095.000000</td>\n",
       "      <td>32352.000000</td>\n",
       "      <td>52583.000000</td>\n",
       "      <td>52583.000000</td>\n",
       "      <td>52583.000000</td>\n",
       "      <td>52583.000000</td>\n",
       "      <td>52583.000000</td>\n",
       "      <td>52583.000000</td>\n",
       "      <td>52583.000000</td>\n",
       "    </tr>\n",
       "    <tr>\n",
       "      <th>mean</th>\n",
       "      <td>26292.500000</td>\n",
       "      <td>2012.499772</td>\n",
       "      <td>6.523962</td>\n",
       "      <td>15.726609</td>\n",
       "      <td>11.500000</td>\n",
       "      <td>2.491071</td>\n",
       "      <td>50.803938</td>\n",
       "      <td>49.064138</td>\n",
       "      <td>50.803938</td>\n",
       "      <td>16.472691</td>\n",
       "      <td>75.846776</td>\n",
       "      <td>1005.369260</td>\n",
       "      <td>21.996151</td>\n",
       "      <td>7.633037</td>\n",
       "      <td>0.241240</td>\n",
       "      <td>1.086764</td>\n",
       "    </tr>\n",
       "    <tr>\n",
       "      <th>std</th>\n",
       "      <td>15179.837614</td>\n",
       "      <td>1.707485</td>\n",
       "      <td>3.448452</td>\n",
       "      <td>8.798896</td>\n",
       "      <td>6.922252</td>\n",
       "      <td>1.116979</td>\n",
       "      <td>36.927474</td>\n",
       "      <td>30.677967</td>\n",
       "      <td>36.927474</td>\n",
       "      <td>87.665141</td>\n",
       "      <td>89.510026</td>\n",
       "      <td>6.917953</td>\n",
       "      <td>6.782722</td>\n",
       "      <td>11.965554</td>\n",
       "      <td>1.941028</td>\n",
       "      <td>7.441679</td>\n",
       "    </tr>\n",
       "    <tr>\n",
       "      <th>min</th>\n",
       "      <td>1.000000</td>\n",
       "      <td>2010.000000</td>\n",
       "      <td>1.000000</td>\n",
       "      <td>1.000000</td>\n",
       "      <td>0.000000</td>\n",
       "      <td>1.000000</td>\n",
       "      <td>1.000000</td>\n",
       "      <td>2.000000</td>\n",
       "      <td>1.000000</td>\n",
       "      <td>-9999.000000</td>\n",
       "      <td>-9999.000000</td>\n",
       "      <td>975.000000</td>\n",
       "      <td>1.700000</td>\n",
       "      <td>0.000000</td>\n",
       "      <td>0.000000</td>\n",
       "      <td>0.000000</td>\n",
       "    </tr>\n",
       "    <tr>\n",
       "      <th>25%</th>\n",
       "      <td>13146.750000</td>\n",
       "      <td>2011.000000</td>\n",
       "      <td>4.000000</td>\n",
       "      <td>8.000000</td>\n",
       "      <td>5.750000</td>\n",
       "      <td>1.000000</td>\n",
       "      <td>24.000000</td>\n",
       "      <td>28.000000</td>\n",
       "      <td>24.000000</td>\n",
       "      <td>12.400000</td>\n",
       "      <td>66.000000</td>\n",
       "      <td>1000.100000</td>\n",
       "      <td>17.300000</td>\n",
       "      <td>1.800000</td>\n",
       "      <td>0.000000</td>\n",
       "      <td>0.000000</td>\n",
       "    </tr>\n",
       "    <tr>\n",
       "      <th>50%</th>\n",
       "      <td>26292.500000</td>\n",
       "      <td>2012.000000</td>\n",
       "      <td>7.000000</td>\n",
       "      <td>16.000000</td>\n",
       "      <td>11.500000</td>\n",
       "      <td>2.000000</td>\n",
       "      <td>43.000000</td>\n",
       "      <td>42.000000</td>\n",
       "      <td>43.000000</td>\n",
       "      <td>19.100000</td>\n",
       "      <td>81.000000</td>\n",
       "      <td>1005.200012</td>\n",
       "      <td>23.500000</td>\n",
       "      <td>3.800000</td>\n",
       "      <td>0.000000</td>\n",
       "      <td>0.000000</td>\n",
       "    </tr>\n",
       "    <tr>\n",
       "      <th>75%</th>\n",
       "      <td>39438.250000</td>\n",
       "      <td>2014.000000</td>\n",
       "      <td>10.000000</td>\n",
       "      <td>23.000000</td>\n",
       "      <td>17.250000</td>\n",
       "      <td>3.000000</td>\n",
       "      <td>68.000000</td>\n",
       "      <td>62.000000</td>\n",
       "      <td>68.000000</td>\n",
       "      <td>23.600000</td>\n",
       "      <td>91.000000</td>\n",
       "      <td>1010.600000</td>\n",
       "      <td>26.800000</td>\n",
       "      <td>8.600000</td>\n",
       "      <td>0.000000</td>\n",
       "      <td>0.000000</td>\n",
       "    </tr>\n",
       "    <tr>\n",
       "      <th>max</th>\n",
       "      <td>52584.000000</td>\n",
       "      <td>2015.000000</td>\n",
       "      <td>12.000000</td>\n",
       "      <td>31.000000</td>\n",
       "      <td>23.000000</td>\n",
       "      <td>4.000000</td>\n",
       "      <td>526.000000</td>\n",
       "      <td>940.000000</td>\n",
       "      <td>526.000000</td>\n",
       "      <td>27.500000</td>\n",
       "      <td>100.000000</td>\n",
       "      <td>1027.800000</td>\n",
       "      <td>37.400002</td>\n",
       "      <td>214.300000</td>\n",
       "      <td>99.100000</td>\n",
       "      <td>271.900000</td>\n",
       "    </tr>\n",
       "  </tbody>\n",
       "</table>\n",
       "</div>"
      ],
      "text/plain": [
       "                 No          year         month           day          hour  \\\n",
       "count  52584.000000  52584.000000  52584.000000  52584.000000  52584.000000   \n",
       "mean   26292.500000   2012.499772      6.523962     15.726609     11.500000   \n",
       "std    15179.837614      1.707485      3.448452      8.798896      6.922252   \n",
       "min        1.000000   2010.000000      1.000000      1.000000      0.000000   \n",
       "25%    13146.750000   2011.000000      4.000000      8.000000      5.750000   \n",
       "50%    26292.500000   2012.000000      7.000000     16.000000     11.500000   \n",
       "75%    39438.250000   2014.000000     10.000000     23.000000     17.250000   \n",
       "max    52584.000000   2015.000000     12.000000     31.000000     23.000000   \n",
       "\n",
       "             season  PM_City Station  PM_5th Middle School    PM_US Post  \\\n",
       "count  52583.000000     32352.000000          21095.000000  32352.000000   \n",
       "mean       2.491071        50.803938             49.064138     50.803938   \n",
       "std        1.116979        36.927474             30.677967     36.927474   \n",
       "min        1.000000         1.000000              2.000000      1.000000   \n",
       "25%        1.000000        24.000000             28.000000     24.000000   \n",
       "50%        2.000000        43.000000             42.000000     43.000000   \n",
       "75%        3.000000        68.000000             62.000000     68.000000   \n",
       "max        4.000000       526.000000            940.000000    526.000000   \n",
       "\n",
       "               DEWP          HUMI          PRES          TEMP           Iws  \\\n",
       "count  52583.000000  52583.000000  52583.000000  52583.000000  52583.000000   \n",
       "mean      16.472691     75.846776   1005.369260     21.996151      7.633037   \n",
       "std       87.665141     89.510026      6.917953      6.782722     11.965554   \n",
       "min    -9999.000000  -9999.000000    975.000000      1.700000      0.000000   \n",
       "25%       12.400000     66.000000   1000.100000     17.300000      1.800000   \n",
       "50%       19.100000     81.000000   1005.200012     23.500000      3.800000   \n",
       "75%       23.600000     91.000000   1010.600000     26.800000      8.600000   \n",
       "max       27.500000    100.000000   1027.800000     37.400002    214.300000   \n",
       "\n",
       "       precipitation         Iprec  \n",
       "count   52583.000000  52583.000000  \n",
       "mean        0.241240      1.086764  \n",
       "std         1.941028      7.441679  \n",
       "min         0.000000      0.000000  \n",
       "25%         0.000000      0.000000  \n",
       "50%         0.000000      0.000000  \n",
       "75%         0.000000      0.000000  \n",
       "max        99.100000    271.900000  "
      ]
     },
     "execution_count": 2,
     "metadata": {},
     "output_type": "execute_result"
    }
   ],
   "source": [
    "#Loading library \n",
    "from matplotlib import pyplot as plt\n",
    "import numpy as np\n",
    "import pandas as pd\n",
    "import re\n",
    "import seaborn as sns\n",
    "from statistics import mode,mean\n",
    "import datetime\n",
    "from sklearn import preprocessing\n",
    "from numpy import genfromtxt\n",
    "from sklearn.preprocessing import MinMaxScaler\n",
    "\n",
    "#Dataset loading\n",
    "#https://archive.ics.uci.edu/ml/datasets/Beijing+PM2.5+Data#\n",
    "gz = pd.read_csv(\"GuangzhouPM20100101_20151231.csv\")\n",
    "gz.describe()"
   ]
  },
  {
   "cell_type": "code",
   "execution_count": 3,
   "metadata": {},
   "outputs": [
    {
     "name": "stdout",
     "output_type": "stream",
     "text": [
      "NA count\n",
      " No                          0\n",
      "year                        0\n",
      "month                       0\n",
      "day                         0\n",
      "hour                        0\n",
      "season                      1\n",
      "PM_City Station         20232\n",
      "PM_5th Middle School    31489\n",
      "PM_US Post              20232\n",
      "DEWP                        1\n",
      "HUMI                        1\n",
      "PRES                        1\n",
      "TEMP                        1\n",
      "cbwd                        1\n",
      "Iws                         1\n",
      "precipitation               1\n",
      "Iprec                       1\n",
      "dtype: int64\n",
      "gz shape (52584, 17)\n",
      "NA percent 0.598832344439\n"
     ]
    }
   ],
   "source": [
    "print(\"NA count\\n\",gz.isnull().sum())\n",
    "print(\"gz shape\",gz.shape)\n",
    "print(\"NA percent\",max(gz.isnull().sum())/gz.shape[0])"
   ]
  },
  {
   "cell_type": "code",
   "execution_count": 4,
   "metadata": {
    "collapsed": true
   },
   "outputs": [],
   "source": [
    "#dataset Standardization and store information in dictionary for inversetransformation\n",
    "statis = {}\n",
    "def stands(x):\n",
    "    statis[x.name] = {}\n",
    "    statis[x.name][\"mean\"] = x.mean()\n",
    "    statis[x.name][\"std\"] = x.std()\n",
    "    x = (x-x.mean())/x.std()    \n",
    "    return x\n",
    "gz['DEWP'] = stands(gz['DEWP'])\n",
    "gz['HUMI'] = stands(gz['HUMI'])\n",
    "gz['PRES'] = stands(gz['PRES'])\n",
    "gz['TEMP'] = stands(gz['TEMP'])\n",
    "gz['Iws'] = stands(gz['Iws'])\n",
    "gz['precipitation'] = stands(gz['precipitation'])\n",
    "gz['Iprec'] = stands(gz['Iprec'])"
   ]
  },
  {
   "cell_type": "code",
   "execution_count": 5,
   "metadata": {},
   "outputs": [
    {
     "data": {
      "image/png": "[encoded data removed]",
      "text/plain": [
       "<matplotlib.figure.Figure at 0x10dce2cc0>"
      ]
     },
     "metadata": {},
     "output_type": "display_data"
    }
   ],
   "source": [
    "f, (ax1, ax2, ax3) = plt.subplots(3, sharex=True, sharey=True)\n",
    "ax1.scatter(gz['month'],gz['PM_City Station'])\n",
    "ax1.set_title('PM_City Station')\n",
    "ax2.scatter(gz['month'],gz['PM_5th Middle School'])\n",
    "ax2.set_title('PM_5th Middle School')\n",
    "ax3.scatter(gz['month'],gz['PM_US Post'])\n",
    "ax3.set_title('PM_US Post')\n",
    "plt.ylabel('PM2.5', fontsize=20)\n",
    "plt.xlabel('month', fontsize=20)\n",
    "plt.show()"
   ]
  },
  {
   "cell_type": "code",
   "execution_count": 6,
   "metadata": {
    "collapsed": true
   },
   "outputs": [],
   "source": [
    "gz = gz.drop(['PM_City Station','PM_US Post'],axis = 1)\n"
   ]
  },
  {
   "cell_type": "code",
   "execution_count": 7,
   "metadata": {},
   "outputs": [
    {
     "name": "stdout",
     "output_type": "stream",
     "text": [
      "NA count\n",
      " No                          0\n",
      "year                        0\n",
      "month                       0\n",
      "day                         0\n",
      "hour                        0\n",
      "season                      1\n",
      "PM_5th Middle School    31489\n",
      "DEWP                        1\n",
      "HUMI                        1\n",
      "PRES                        1\n",
      "TEMP                        1\n",
      "cbwd                        1\n",
      "Iws                         1\n",
      "precipitation               1\n",
      "Iprec                       1\n",
      "dtype: int64\n",
      "gz shape (52584, 15)\n",
      "NA percent 0.598832344439\n"
     ]
    }
   ],
   "source": [
    "print(\"NA count\\n\",gz.isnull().sum())\n",
    "print(\"gz shape\",gz.shape)\n",
    "print(\"NA percent\",max(gz.isnull().sum())/gz.shape[0])"
   ]
  },
  {
   "cell_type": "code",
   "execution_count": 8,
   "metadata": {},
   "outputs": [
    {
     "data": {
      "image/png": "[encoded data removed]",
      "text/plain": [
       "<matplotlib.figure.Figure at 0x10dd01898>"
      ]
     },
     "metadata": {},
     "output_type": "display_data"
    }
   ],
   "source": [
    "plt.plot(gz['PM_5th Middle School'])\n",
    "plt.ylabel('PM2.5 reading', fontsize=20)\n",
    "plt.xlabel('record index', fontsize=20)\n",
    "plt.title('PM_5th Middle School PM reading',fontsize=20)\n",
    "plt.show()"
   ]
  },
  {
   "cell_type": "code",
   "execution_count": 9,
   "metadata": {},
   "outputs": [
    {
     "data": {
      "text/plain": [
       "count    21095.000000\n",
       "mean        49.064138\n",
       "std         30.677967\n",
       "min          2.000000\n",
       "25%         28.000000\n",
       "50%         42.000000\n",
       "75%         62.000000\n",
       "max        940.000000\n",
       "Name: PM_5th Middle School, dtype: float64"
      ]
     },
     "execution_count": 9,
     "metadata": {},
     "output_type": "execute_result"
    }
   ],
   "source": [
    "gz['PM_5th Middle School'].describe()"
   ]
  },
  {
   "cell_type": "code",
   "execution_count": 10,
   "metadata": {},
   "outputs": [
    {
     "name": "stderr",
     "output_type": "stream",
     "text": [
      "/Users/zhengxiaoyu/anaconda/lib/python3.6/site-packages/ipykernel_launcher.py:1: FutureWarning: pd.rolling_median is deprecated for Series and will be removed in a future version, replace with \n",
      "\tSeries.rolling(window=30,center=False).median()\n",
      "  \"\"\"Entry point for launching an IPython kernel.\n"
     ]
    }
   ],
   "source": [
    "gz['PM_5th Middle School'] = stands(pd.rolling_median(gz['PM_5th Middle School'],30))"
   ]
  },
  {
   "cell_type": "code",
   "execution_count": 11,
   "metadata": {},
   "outputs": [
    {
     "data": {
      "image/png": "[encoded data removed]",
      "text/plain": [
       "<matplotlib.figure.Figure at 0x10302d390>"
      ]
     },
     "metadata": {},
     "output_type": "display_data"
    }
   ],
   "source": [
    "plt.plot(gz['PM_5th Middle School'])\n",
    "plt.ylabel('PM2.5 reading', fontsize=20)\n",
    "plt.xlabel('record index', fontsize=20)\n",
    "plt.title('PM_5th Middle School PM reading with moving median',fontsize=20)\n",
    "plt.show()"
   ]
  },
  {
   "cell_type": "code",
   "execution_count": 12,
   "metadata": {},
   "outputs": [
    {
     "data": {
      "image/png": "[encoded data removed]",
      "text/plain": [
       "<matplotlib.figure.Figure at 0x1135e1d68>"
      ]
     },
     "metadata": {},
     "output_type": "display_data"
    }
   ],
   "source": [
    "#Because frist 350000 row of index has too many NAN, we drop first 35000 row. \n",
    "plt.plot(gz['PM_5th Middle School'])\n",
    "plt.ylabel('PM2.5 reading', fontsize=20)\n",
    "plt.xlabel('index', fontsize=20)\n",
    "plt.title('PM_5th Middle School PM reading with moving median',fontsize=20)\n",
    "plt.show()\n",
    "gz = gz.drop(gz.index[0:35000])"
   ]
  },
  {
   "cell_type": "code",
   "execution_count": 13,
   "metadata": {},
   "outputs": [
    {
     "data": {
      "image/png": "[encoded data removed]",
      "text/plain": [
       "<matplotlib.figure.Figure at 0x1133fce48>"
      ]
     },
     "metadata": {},
     "output_type": "display_data"
    }
   ],
   "source": [
    "plt.plot(gz['PM_5th Middle School'])\n",
    "plt.ylabel('PM2.5 reading', fontsize=20)\n",
    "plt.xlabel('Record index', fontsize=20)\n",
    "plt.title('PM_5th Middle School PM reading with moving median',fontsize=20)\n",
    "plt.show()"
   ]
  },
  {
   "cell_type": "code",
   "execution_count": 14,
   "metadata": {},
   "outputs": [
    {
     "data": {
      "text/plain": [
       "count    14603.000000\n",
       "mean        -0.041655\n",
       "std          0.977408\n",
       "min         -1.611354\n",
       "25%         -0.772666\n",
       "50%         -0.227520\n",
       "75%          0.422463\n",
       "max          5.517488\n",
       "Name: PM_5th Middle School, dtype: float64"
      ]
     },
     "execution_count": 14,
     "metadata": {},
     "output_type": "execute_result"
    }
   ],
   "source": [
    "gz['PM_5th Middle School'].describe()"
   ]
  },
  {
   "cell_type": "code",
   "execution_count": 15,
   "metadata": {},
   "outputs": [
    {
     "name": "stdout",
     "output_type": "stream",
     "text": [
      "gz NA count\n",
      " No                      0\n",
      "year                    0\n",
      "month                   0\n",
      "day                     0\n",
      "hour                    0\n",
      "season                  0\n",
      "PM_5th Middle School    0\n",
      "DEWP                    0\n",
      "HUMI                    0\n",
      "PRES                    0\n",
      "TEMP                    0\n",
      "cbwd                    0\n",
      "Iws                     0\n",
      "precipitation           0\n",
      "Iprec                   0\n",
      "dtype: int64\n",
      "gz shape (14603, 15)\n",
      "NA percent 0.0\n"
     ]
    }
   ],
   "source": [
    "gz = gz.dropna(axis=0, how='any')\n",
    "print(\"gz NA count\\n\",gz.isnull().sum())\n",
    "print(\"gz shape\",gz.shape)\n",
    "print(\"NA percent\",sum(gz.isnull().sum())/gz.shape[0])"
   ]
  },
  {
   "cell_type": "code",
   "execution_count": null,
   "metadata": {
    "collapsed": true
   },
   "outputs": [],
   "source": [
    "gz.to_csv('gzpm_cleaned.csv')"
   ]
  },
  {
   "cell_type": "code",
   "execution_count": null,
   "metadata": {
    "collapsed": true
   },
   "outputs": [],
   "source": [
    "'''\n",
    "#R code for Time Series\n",
    "\n",
    "\n",
    "#metrics:\n",
    "rmse <- function(error)\n",
    "{\n",
    "  sqrt(mean(error^2))\n",
    "}\n",
    "rmse(f$residuals)\n",
    "\n",
    "#time series\n",
    "library(astsa)\n",
    "\n",
    "gzpmc <- read_csv(\"~/ds501/Case Study 4/gzpm_cleaned.csv\")\n",
    "gz = gzpmc[,-c(1:7)]\n",
    "gz$cbwd = as.factor(gz$cbwd)\n",
    "for (i in c(1:5,6:9)){\n",
    "  gz[,i] = as.ts(gz[,i],frequency = 24)\n",
    "}\n",
    "#to see whether right-continous or not\n",
    "index = ((c(0,gzpmc$No)-c(gzpmc$No,0)) == -1)[-1]\n",
    "which(index==FALSE) #....12031 12725\n",
    "plot(index,type='l')\n",
    "\n",
    "##auto correlation\n",
    "temp = as.ts(gz[,-6])\n",
    "max_index=0\n",
    "\n",
    "for(j in 2:8){\n",
    "  cor_store = 0\n",
    "  for(i in 2:168){\n",
    "    cor_store=c(cor_store, cor(temp[(12037+i):(12709+i),1],temp[(12037-i):(12709-i),j]))\n",
    "  }\n",
    "  cor_store =cor_store[-1]\n",
    "  max_index=c(max_index, which.max(abs(cor_store)))\n",
    "  plot(cor_store,type='l',ylab=\"correlation\",xlab=\"lag time\")\n",
    "}\n",
    "max_index[-1]\n",
    "\n",
    "# 2015.9.6.0.: start=12038, end:12709, 28 days=672 hrs in total\n",
    "part = gz[12038:12709,]\n",
    "for (i in c(1:5,7:9)){\n",
    "  part[,i] = as.ts(part[,i],frequency = 24,start=1)\n",
    "}\n",
    "\n",
    "fullmodel=lm(PM_5th.Middle.School~.,+cbwd*Iws,data=part)\n",
    "emmodel=lm(PM_5th.Middle.School~1,,data=part)\n",
    "slml=step(object=emmodel,scope=list(lower=emmodel,upper=fullmodel),direction = \"both\")\n",
    "sl=lm(formula = PM_5th.Middle.School ~ PRES + cbwd + HUMI + HUMI.1 +Iws + Iprec, data = part)\n",
    "plot(sl)        \n",
    "sl_new=sl$residuals\n",
    "sl_new=as.ts(sl_new)\n",
    "plot(sl_new)\n",
    "dsl_new=diff(sl_new)\n",
    "plot(dsl_new)\n",
    "acf2(dsl_new)\n",
    "\n",
    "fit2=sarima(sl_new, 2,0,0)\n",
    "fit3=sarima(sl_new, 1,1,1) #turns out good\n",
    "\n",
    "fit3=arima(sl_new, order= c(1,1,1))\n",
    "fcast3 <- forecast(fit3, h=15)\n",
    "plot(fcast3)\n",
    "rmse(fcast3$x-part$PM_5th.Middle.School) #rmse 0.3142914\n",
    "\n",
    "a=predict(sll,newdata= gz[12709:12725,])\n",
    "aa=gz$PM_5th.Middle.School[12709:12725]\n",
    "qaa=aa-a\n",
    "lines(673:689,qaa,lty=2)\n",
    "\n",
    "'''"
   ]
  },
  {
   "cell_type": "code",
   "execution_count": null,
   "metadata": {
    "collapsed": true
   },
   "outputs": [],
   "source": [
    "''' R code for regression\n",
    "library(onehot)\n",
    "library(forecast)\n",
    "gz <- read.csv(\"~/Downloads/CASE_study4/pmgz_cleaned.csv\")\n",
    "gz<-gz[,-1]\n",
    "gz[,1] <- as.factor(gz[,1])\n",
    "encoder <- onehot(gz)\n",
    "x <- predict(encoder, gz)\n",
    "gza <- data.frame(x)\n",
    "model1 <- lm(gza$PM_5th.Middle.School~.^2, data = gza)\n",
    "model2 <- step(model1,direction = c(\"backward\"))\n",
    "summary(model2)\n",
    "'''"
   ]
  },
  {
   "cell_type": "code",
   "execution_count": null,
   "metadata": {
    "collapsed": true
   },
   "outputs": [],
   "source": [
    "''' Matlab Code for Tree\n",
    "function [trainedModel, validationRMSE] = trainRegressionModel(trainingData)\n",
    "% [trainedModel, validationRMSE] = trainRegressionModel(trainingData)\n",
    "% returns a trained regression model and its RMSE. This code recreates the\n",
    "% model trained in Regression Learner app. Use the generated code to\n",
    "% automate training the same model with new data, or to learn how to\n",
    "% programmatically train models.\n",
    "%\n",
    "%  Input:\n",
    "%      trainingData: a table containing the same predictor and response\n",
    "%       columns as imported into the app.\n",
    "%\n",
    "%  Output:\n",
    "%      trainedModel: a struct containing the trained regression model. The\n",
    "%       struct contains various fields with information about the trained\n",
    "%       model.\n",
    "%\n",
    "%      trainedModel.predictFcn: a function to make predictions on new data.\n",
    "%\n",
    "%      validationRMSE: a double containing the RMSE. In the app, the\n",
    "%       History list displays the RMSE for each model.\n",
    "%\n",
    "% Use the code to train the model with new data. To retrain your model,\n",
    "% call the function from the command line with your original data or new\n",
    "% data as the input argument trainingData.\n",
    "%\n",
    "% For example, to retrain a regression model trained with the original data\n",
    "% set T, enter:\n",
    "%   [trainedModel, validationRMSE] = trainRegressionModel(T)\n",
    "%\n",
    "% To make predictions with the returned 'trainedModel' on new data T2, use\n",
    "%   yfit = trainedModel.predictFcn(T2)\n",
    "%\n",
    "% T2 must be a table containing at least the same predictor columns as used\n",
    "% during training. For details, enter:\n",
    "%   trainedModel.HowToPredict\n",
    "\n",
    "% Auto-generated by MATLAB on 07-Dec-2017 15:13:12\n",
    "\n",
    "\n",
    "% Extract predictors and response\n",
    "% This code processes the data into the right shape for training the\n",
    "% model.\n",
    "inputTable = trainingData;\n",
    "predictorNames = {'season', 'DEWP', 'HUMI', 'PRES', 'TEMP', 'cbwd', 'Iws', 'precipitation', 'Iprec'};\n",
    "predictors = inputTable(:, predictorNames);\n",
    "response = inputTable.PM_5thMiddleSchool;\n",
    "isCategoricalPredictor = [true, false, false, false, false, true, false, false, false];\n",
    "\n",
    "% Train a regression model\n",
    "% This code specifies all the model options and trains the model.\n",
    "template = templateTree(...\n",
    "    'MinLeafSize', 8);\n",
    "regressionEnsemble = fitrensemble(...\n",
    "    predictors, ...\n",
    "    response, ...\n",
    "    'Method', 'Bag', ...\n",
    "    'NumLearningCycles', 30, ...\n",
    "    'Learners', template);\n",
    "\n",
    "% Create the result struct with predict function\n",
    "predictorExtractionFcn = @(t) t(:, predictorNames);\n",
    "ensemblePredictFcn = @(x) predict(regressionEnsemble, x);\n",
    "trainedModel.predictFcn = @(x) ensemblePredictFcn(predictorExtractionFcn(x));\n",
    "\n",
    "% Add additional fields to the result struct\n",
    "trainedModel.RequiredVariables = {'season', 'DEWP', 'HUMI', 'PRES', 'TEMP', 'cbwd', 'Iws', 'precipitation', 'Iprec'};\n",
    "trainedModel.RegressionEnsemble = regressionEnsemble;\n",
    "trainedModel.About = 'This struct is a trained model exported from Regression Learner R2017a.';\n",
    "trainedModel.HowToPredict = sprintf('To make predictions on a new table, T, use: \\n  yfit = c.predictFcn(T) \\nreplacing ''c'' with the name of the variable that is this struct, e.g. ''trainedModel''. \\n \\nThe table, T, must contain the variables returned by: \\n  c.RequiredVariables \\nVariable formats (e.g. matrix/vector, datatype) must match the original training data. \\nAdditional variables are ignored. \\n \\nFor more information, see <a href=\" ''stats'', ''stats.map''), ''appregression_exportmodeltoworkspace'')\">How to predict using an exported model</a >.');\n",
    "\n",
    "% Extract predictors and response\n",
    "% This code processes the data into the right shape for training the\n",
    "% model.\n",
    "inputTable = trainingData;\n",
    "predictorNames = {'season', 'DEWP', 'HUMI', 'PRES', 'TEMP', 'cbwd', 'Iws', 'precipitation', 'Iprec'};\n",
    "predictors = inputTable(:, predictorNames);\n",
    "response = inputTable.PM_5thMiddleSchool;\n",
    "isCategoricalPredictor = [true, false, false, false, false, true, false, false, false];\n",
    "\n",
    "% Perform cross-validation\n",
    "partitionedModel = crossval(trainedModel.RegressionEnsemble, 'KFold', 5);\n",
    "\n",
    "% Compute validation predictions\n",
    "validationPredictions = kfoldPredict(partitionedModel);\n",
    "\n",
    "% Compute validation RMSE\n",
    "validationRMSE = sqrt(kfoldLoss(partitionedModel, 'LossFun', 'mse'));'''"
   ]
  },
  {
   "cell_type": "code",
   "execution_count": null,
   "metadata": {
    "collapsed": true
   },
   "outputs": [],
   "source": [
    "'''\n",
    "Matlab code for nural network\n",
    "function [y1,xf1] = myNeuralNetworkFunction(x1,xi1)\n",
    "%MYNEURALNETWORKFUNCTION neural network simulation function.\n",
    "%\n",
    "% Generated by Neural Network Toolbox function genFunction, 07-Dec-2017 14:55:04.\n",
    "%\n",
    "% [y1,xf1] = myNeuralNetworkFunction(x1,xi1) takes these arguments:\n",
    "%   x1 = 1xTS matrix, input #1\n",
    "%   xi1 = 1x2 matrix, initial 2 delay states for input #1.\n",
    "% and returns:\n",
    "%   y1 = 1xTS matrix, output #1\n",
    "%   xf1 = 1x2 matrix, final 2 delay states for input #1.\n",
    "% where TS is the number of timesteps.\n",
    "\n",
    "% ===== NEURAL NETWORK CONSTANTS =====\n",
    "\n",
    "% Input 1\n",
    "x1_step1.xoffset = -1.61135359156457;\n",
    "x1_step1.gain = 0.280550509023678;\n",
    "x1_step1.ymin = -1;\n",
    "\n",
    "% Layer 1\n",
    "b1 = [3.9961845503992932116;-3.1684136952616666072;-0.89597052827529244379;2.0429142113279263882;0.22905794754915959066;0.03879821033514224693;-2.1271651895288399281;-2.4726415385861937324;-3.6638072298867569998;-4.4691075462099947302];\n",
    "IW1_1 = [-3.7538824172151130654 2.8369543484686570167;6.4710938800387278746 -2.6421245672845450336;2.1456810137758695056 -3.2784292466568136781;-0.30534647050431618087 -4.5027253975298018318;7.4124457122637608109 -6.8896922086028169474;2.01016519562192153 0.1800025339523730894;-2.7082851697497591914 -3.4932706679246510184;-2.1793947138412264053 -1.9941553736414436848;-2.3724345580669954359 -1.5734127119190102206;-2.3530839310023790034 3.8438933636492969015];\n",
    "\n",
    "% Layer 2\n",
    "b2 = 0.41126638835296314145;\n",
    "LW2_1 = [-0.69332815017226456789 0.23941657173805733216 -0.10257366824999249177 -0.085459011857358851971 0.1869744954268046655 0.36448377687072541775 -0.021016036007548616338 -0.096498964602878128938 -0.15584823091934105199 -0.20094951529789423228];\n",
    "\n",
    "% Output 1\n",
    "y1_step1.ymin = -1;\n",
    "y1_step1.gain = 0.280550509023678;\n",
    "y1_step1.xoffset = -1.61135359156457;\n",
    "\n",
    "% ===== SIMULATION ========\n",
    "\n",
    "% Dimensions\n",
    "TS = size(x1,2); % timesteps\n",
    "\n",
    "% Input 1 Delay States\n",
    "xd1 = mapminmax_apply(xi1,x1_step1);\n",
    "xd1 = [xd1 zeros(1,1)];\n",
    "\n",
    "% Allocate Outputs\n",
    "y1 = zeros(1,TS);\n",
    "\n",
    "% Time loop\n",
    "for ts=1:TS\n",
    "    \n",
    "    % Rotating delay state position\n",
    "    xdts = mod(ts+1,3)+1;\n",
    "    \n",
    "    % Input 1\n",
    "    xd1(:,xdts) = mapminmax_apply(x1(:,ts),x1_step1);\n",
    "    \n",
    "    % Layer 1\n",
    "    tapdelay1 = reshape(xd1(:,mod(xdts-[1 2]-1,3)+1),2,1);\n",
    "    a1 = tansig_apply(b1 + IW1_1*tapdelay1);\n",
    "    \n",
    "    % Layer 2\n",
    "    a2 = b2 + LW2_1*a1;\n",
    "    \n",
    "    % Output 1\n",
    "    y1(:,ts) = mapminmax_reverse(a2,y1_step1);\n",
    "end\n",
    "\n",
    "% Final delay states\n",
    "finalxts = TS+(1: 2);\n",
    "xits = finalxts(finalxts<=2);\n",
    "xts = finalxts(finalxts>2)-2;\n",
    "xf1 = [xi1(:,xits) x1(:,xts)];\n",
    "end\n",
    "\n",
    "% ===== MODULE FUNCTIONS ========\n",
    "\n",
    "% Map Minimum and Maximum Input Processing Function\n",
    "function y = mapminmax_apply(x,settings)\n",
    "y = bsxfun(@minus,x,settings.xoffset);\n",
    "y = bsxfun(@times,y,settings.gain);\n",
    "y = bsxfun(@plus,y,settings.ymin);\n",
    "end\n",
    "\n",
    "% Sigmoid Symmetric Transfer Function\n",
    "function a = tansig_apply(n,~)\n",
    "a = 2 ./ (1 + exp(-2*n)) - 1;\n",
    "end\n",
    "\n",
    "% Map Minimum and Maximum Output Reverse-Processing Function\n",
    "function x = mapminmax_reverse(y,settings)\n",
    "x = bsxfun(@minus,y,settings.ymin);\n",
    "x = bsxfun(@rdivide,x,settings.gain);\n",
    "x = bsxfun(@plus,x,settings.xoffset);\n",
    "end'''"
   ]
  },
  {
   "cell_type": "markdown",
   "metadata": {},
   "source": [
    "### Problem 3: The Hacking Part  (20 points)\n"
   ]
  },
  {
   "cell_type": "markdown",
   "metadata": {},
   "source": [
    "* Data Collection\n",
    "* Implement a small Demo/Prototype/experiment result figures for the \"product\" of your data science company. You could use this demo during the Pitch"
   ]
  },
  {
   "cell_type": "markdown",
   "metadata": {},
   "source": [
    "We implement a multi-thread server and its front side. By accessing using the Brower, we will see the following three days PM2.5 value, and you can click on those values. If the PM2.5 value is low, it will redirect to an outdoor exercise or palce, otherwsie it will redirect to PM2.5 relevant product page."
   ]
  },
  {
   "cell_type": "code",
   "execution_count": 16,
   "metadata": {},
   "outputs": [
    {
     "data": {
      "text/html": [
       "<div>\n",
       "<style>\n",
       "    .dataframe thead tr:only-child th {\n",
       "        text-align: right;\n",
       "    }\n",
       "\n",
       "    .dataframe thead th {\n",
       "        text-align: left;\n",
       "    }\n",
       "\n",
       "    .dataframe tbody tr th {\n",
       "        vertical-align: top;\n",
       "    }\n",
       "</style>\n",
       "<table border=\"1\" class=\"dataframe\">\n",
       "  <thead>\n",
       "    <tr style=\"text-align: right;\">\n",
       "      <th></th>\n",
       "      <th>Unnamed: 0</th>\n",
       "      <th>No</th>\n",
       "      <th>year</th>\n",
       "      <th>month</th>\n",
       "      <th>day</th>\n",
       "      <th>hour</th>\n",
       "      <th>season</th>\n",
       "      <th>PM_City Station</th>\n",
       "      <th>PM_5th Middle School</th>\n",
       "      <th>PM_US Post</th>\n",
       "      <th>DEWP</th>\n",
       "      <th>HUMI</th>\n",
       "      <th>PRES</th>\n",
       "      <th>TEMP</th>\n",
       "      <th>cbwd</th>\n",
       "      <th>Iws</th>\n",
       "      <th>precipitation</th>\n",
       "      <th>Iprec</th>\n",
       "    </tr>\n",
       "  </thead>\n",
       "  <tbody>\n",
       "    <tr>\n",
       "      <th>0</th>\n",
       "      <td>26304</td>\n",
       "      <td>26305</td>\n",
       "      <td>2013</td>\n",
       "      <td>1</td>\n",
       "      <td>1</td>\n",
       "      <td>0</td>\n",
       "      <td>4.0</td>\n",
       "      <td>83.0</td>\n",
       "      <td>78.0</td>\n",
       "      <td>83.0</td>\n",
       "      <td>3.7</td>\n",
       "      <td>91.0</td>\n",
       "      <td>1014.2</td>\n",
       "      <td>5.0</td>\n",
       "      <td>NW</td>\n",
       "      <td>1.9</td>\n",
       "      <td>0.0</td>\n",
       "      <td>0.0</td>\n",
       "    </tr>\n",
       "    <tr>\n",
       "      <th>1</th>\n",
       "      <td>26305</td>\n",
       "      <td>26306</td>\n",
       "      <td>2013</td>\n",
       "      <td>1</td>\n",
       "      <td>1</td>\n",
       "      <td>1</td>\n",
       "      <td>4.0</td>\n",
       "      <td>95.0</td>\n",
       "      <td>70.0</td>\n",
       "      <td>95.0</td>\n",
       "      <td>4.2</td>\n",
       "      <td>88.0</td>\n",
       "      <td>1014.2</td>\n",
       "      <td>6.0</td>\n",
       "      <td>NW</td>\n",
       "      <td>3.4</td>\n",
       "      <td>0.0</td>\n",
       "      <td>0.0</td>\n",
       "    </tr>\n",
       "    <tr>\n",
       "      <th>2</th>\n",
       "      <td>26307</td>\n",
       "      <td>26308</td>\n",
       "      <td>2013</td>\n",
       "      <td>1</td>\n",
       "      <td>1</td>\n",
       "      <td>3</td>\n",
       "      <td>4.0</td>\n",
       "      <td>55.0</td>\n",
       "      <td>66.0</td>\n",
       "      <td>55.0</td>\n",
       "      <td>3.5</td>\n",
       "      <td>76.0</td>\n",
       "      <td>1013.9</td>\n",
       "      <td>7.5</td>\n",
       "      <td>NW</td>\n",
       "      <td>5.8</td>\n",
       "      <td>0.0</td>\n",
       "      <td>0.0</td>\n",
       "    </tr>\n",
       "  </tbody>\n",
       "</table>\n",
       "</div>"
      ],
      "text/plain": [
       "   Unnamed: 0     No  year  month  day  hour  season  PM_City Station  \\\n",
       "0       26304  26305  2013      1    1     0     4.0             83.0   \n",
       "1       26305  26306  2013      1    1     1     4.0             95.0   \n",
       "2       26307  26308  2013      1    1     3     4.0             55.0   \n",
       "\n",
       "   PM_5th Middle School  PM_US Post  DEWP  HUMI    PRES  TEMP cbwd  Iws  \\\n",
       "0                  78.0        83.0   3.7  91.0  1014.2   5.0   NW  1.9   \n",
       "1                  70.0        95.0   4.2  88.0  1014.2   6.0   NW  3.4   \n",
       "2                  66.0        55.0   3.5  76.0  1013.9   7.5   NW  5.8   \n",
       "\n",
       "   precipitation  Iprec  \n",
       "0            0.0    0.0  \n",
       "1            0.0    0.0  \n",
       "2            0.0    0.0  "
      ]
     },
     "execution_count": 16,
     "metadata": {},
     "output_type": "execute_result"
    }
   ],
   "source": [
    "import numpy as np\n",
    "import pandas as pd\n",
    "import datetime\n",
    "total_data = pd.read_csv('gzpm_cleaned.csv')\n",
    "total_data.head(3)"
   ]
  },
  {
   "cell_type": "code",
   "execution_count": 17,
   "metadata": {
    "collapsed": true
   },
   "outputs": [],
   "source": [
    "def find_data(year, month, day, hour):\n",
    "    try:\n",
    "        #print(year, month, day, hour)\n",
    "        data_found = total_data.query('year == '+str(year)+' & day=='+str(day)+' \\\n",
    "                                      & hour=='+str(hour)+' & month=='+str(month))\n",
    "        #print(data_found)\n",
    "        if len(data_found)==1:\n",
    "            return data_found\n",
    "        else:\n",
    "            return 'No Data'\n",
    "    except:\n",
    "        print('Worng Date')\n",
    "        return 'No Data'"
   ]
  },
  {
   "cell_type": "code",
   "execution_count": 18,
   "metadata": {},
   "outputs": [
    {
     "data": {
      "text/html": [
       "<div>\n",
       "<style>\n",
       "    .dataframe thead tr:only-child th {\n",
       "        text-align: right;\n",
       "    }\n",
       "\n",
       "    .dataframe thead th {\n",
       "        text-align: left;\n",
       "    }\n",
       "\n",
       "    .dataframe tbody tr th {\n",
       "        vertical-align: top;\n",
       "    }\n",
       "</style>\n",
       "<table border=\"1\" class=\"dataframe\">\n",
       "  <thead>\n",
       "    <tr style=\"text-align: right;\">\n",
       "      <th></th>\n",
       "      <th>Unnamed: 0</th>\n",
       "      <th>No</th>\n",
       "      <th>year</th>\n",
       "      <th>month</th>\n",
       "      <th>day</th>\n",
       "      <th>hour</th>\n",
       "      <th>season</th>\n",
       "      <th>PM_City Station</th>\n",
       "      <th>PM_5th Middle School</th>\n",
       "      <th>PM_US Post</th>\n",
       "      <th>DEWP</th>\n",
       "      <th>HUMI</th>\n",
       "      <th>PRES</th>\n",
       "      <th>TEMP</th>\n",
       "      <th>cbwd</th>\n",
       "      <th>Iws</th>\n",
       "      <th>precipitation</th>\n",
       "      <th>Iprec</th>\n",
       "    </tr>\n",
       "  </thead>\n",
       "  <tbody>\n",
       "    <tr>\n",
       "      <th>5205</th>\n",
       "      <td>36457</td>\n",
       "      <td>36458</td>\n",
       "      <td>2014</td>\n",
       "      <td>2</td>\n",
       "      <td>28</td>\n",
       "      <td>1</td>\n",
       "      <td>4.0</td>\n",
       "      <td>50.0</td>\n",
       "      <td>33.0</td>\n",
       "      <td>50.0</td>\n",
       "      <td>15.3</td>\n",
       "      <td>83.0</td>\n",
       "      <td>1009.1</td>\n",
       "      <td>18.3</td>\n",
       "      <td>SE</td>\n",
       "      <td>15.9</td>\n",
       "      <td>0.0</td>\n",
       "      <td>0.0</td>\n",
       "    </tr>\n",
       "  </tbody>\n",
       "</table>\n",
       "</div>"
      ],
      "text/plain": [
       "      Unnamed: 0     No  year  month  day  hour  season  PM_City Station  \\\n",
       "5205       36457  36458  2014      2   28     1     4.0             50.0   \n",
       "\n",
       "      PM_5th Middle School  PM_US Post  DEWP  HUMI    PRES  TEMP cbwd   Iws  \\\n",
       "5205                  33.0        50.0  15.3  83.0  1009.1  18.3   SE  15.9   \n",
       "\n",
       "      precipitation  Iprec  \n",
       "5205            0.0    0.0  "
      ]
     },
     "execution_count": 18,
     "metadata": {},
     "output_type": "execute_result"
    }
   ],
   "source": [
    "find_data('2014','2','28',1)"
   ]
  },
  {
   "cell_type": "code",
   "execution_count": 19,
   "metadata": {
    "collapsed": true
   },
   "outputs": [],
   "source": [
    "# The demo uses MLR to calculate the PM2.5 value, because it is easy to implement.\n",
    "def calculate_PM25(df):\n",
    "    #print(df)\n",
    "    if len(df)>1:\n",
    "        return 0\n",
    "    coe1 = df['season'].values[0]\n",
    "    coe2 = df['DEWP'].values[0]\n",
    "    coe3 = df['HUMI'].values[0]\n",
    "    coe4 = df['TEMP'].values[0]\n",
    "    coe5 = df['cbwd'].values[0]\n",
    "    coe6 = df['Iws'].values[0]\n",
    "    coe7 = df['Iprec'].values[0]\n",
    "    if coe1 == 1:\n",
    "        coe1_value = -0.60931\n",
    "    elif coe1 == 2:\n",
    "        coe1_value = -1.083711\n",
    "    elif coe1 == 3:\n",
    "        coe1_value= -0.620802\n",
    "    else:\n",
    "        coe1_value = 0\n",
    "    if coe5 == 'cv':\n",
    "        coe5_value = 0.201879\n",
    "    elif coe5 == 'NW':\n",
    "        coe5_value = 0.250275\n",
    "    else:\n",
    "        coe5_value = 0\n",
    "    PM25 = int(0.509180+coe1_value+(-10.348965)*coe2+2.006098*coe3+\\\n",
    "               0.778131*coe4+coe5_value+(-0.077538)*coe6+(-0.061016)*coe7)\n",
    "    if PM25 < 0:\n",
    "        return 0\n",
    "    else:\n",
    "        return PM25\n",
    "    "
   ]
  },
  {
   "cell_type": "code",
   "execution_count": 20,
   "metadata": {
    "collapsed": true
   },
   "outputs": [],
   "source": [
    "def delete_zero(string):\n",
    "    if string[0]=='0':\n",
    "        return string[1:]\n",
    "    else:\n",
    "        return string\n",
    "    \n",
    "def find_next_day(year, month, day):\n",
    "    next_day = datetime.date(int(year),int(month),int(day))+datetime.timedelta(days=+1)\n",
    "    next_day = str(next_day).split('-')\n",
    "    return next_day[0], delete_zero(next_day[1]), delete_zero(next_day[2]) \n",
    "\n",
    "#def calculate(year, month, day, hour):\n",
    "#    current_data = find_data(year, month, day, hour)\n",
    "#    next_year, next_month, next_day = find_next_day(year, month, day)\n",
    "    #print(next_day)\n",
    "#    next_data = find_data(next_year, next_month, next_day, hour)\n",
    "#    next_year, next_month, next_day  = find_next_day(next_year, next_month, next_day )\n",
    "#    next_next_data = find_data(next_year, next_month, next_day, hour)\n",
    "    #print(current_data, next_data, next_next_day)\n",
    "#    if len(current_data) != 1 or len(next_data) != 1 or len(next_next_data) != 1:\n",
    "#        return\n",
    "    \n",
    "    #a = current_data['PRES'].values[0]\n",
    "    #b = current_data['Iws'].values[0]\n",
    "    #return 1.8*a+7*b\n",
    "#calculate(2012,2,29,1)"
   ]
  },
  {
   "cell_type": "code",
   "execution_count": 21,
   "metadata": {},
   "outputs": [
    {
     "data": {
      "text/plain": [
       "101"
      ]
     },
     "execution_count": 21,
     "metadata": {},
     "output_type": "execute_result"
    }
   ],
   "source": [
    "calculate_PM25(find_data('2013','1','16',4))"
   ]
  },
  {
   "cell_type": "code",
   "execution_count": 22,
   "metadata": {
    "collapsed": true
   },
   "outputs": [],
   "source": [
    "#Thepart generate the HTML page, the content will be different based on the url(date) entered\n",
    "def html_header_generator():\n",
    "    text = '''<!DOCTYPE html>\n",
    "<html>\n",
    "<head>\n",
    "<title>PM2.5 Guang Zhou</title>\n",
    "<link href=\"css/bootstrap.css\" rel=\"stylesheet\" type=\"text/css\" media=\"all\" />\n",
    "<link rel=\"stylesheet\" type=\"text/css\" href=\"css/style.css\" />\n",
    "<link href=\"http://fonts.googleapis.com/css?family=Dosis:200,300,400,500,600\" rel=\"stylesheet\">\n",
    "<link href=\"http://fonts.googleapis.com/css?family=Open+Sans:300,300i,400,400i,600,600i,700,700i\" rel=\"stylesheet\">\n",
    "</head>\n",
    "<body>\n",
    "\t<!-- /plans -->\n",
    "      <div class=\"plans-section\">\n",
    "\t\t\t\t <div class=\"container\">\n",
    "\t\t\t\t <h3 class=\"w3l-inner-h-title\">PM2.5 In Guang Zhou</h3>\n",
    "\t\t\t\t\t\t<div class=\"valueing-table-main\">'''\n",
    "    return text\n",
    "\n",
    "def html_data_generator(year, month, day, hour, index):\n",
    "    if index == 0:\n",
    "        try: pm_25 = int(find_data(year, month, day, hour)['PM_5th Middle School'].values[0])\n",
    "        except:return ''\n",
    "    else:\n",
    "        try: pm_25 = calculate_PM25(find_data(year, month, day, hour))\n",
    "        except:return ''\n",
    "    current_day = datetime.date(int(year),int(month),int(day))\n",
    "    if index == 0:\n",
    "        Day = 'Today'\n",
    "    if index == 1:\n",
    "        Day = 'Tomorrow'\n",
    "    if index == 2:\n",
    "        Day = '2 Days Later'\n",
    "    if index == 3:\n",
    "        Day = '3 Days Later'\n",
    "    if pm_25<100:\n",
    "        identifier = '''\t\t\t\t <div class=\"col-md-3 value-grid\">\n",
    "\t\t\t\t\t<div class=\"value-block agile\">\n",
    "\t\t\t\t\t\t<div class=\"value-gd-top pric-clr1\">\n",
    "\t\t\t\t\t\t\t<h4>'''+Day+'''</h4>\n",
    "\t\t\t\t\t\t\t<h3>'''+str(pm_25)+'''</h3>\n",
    "\t\t\t\t\t\t\t<h5>'''+str(current_day)+'''</h5>\n",
    "\t\t\t\t\t\t</div>\n",
    "\t\t\t\t\t\t<div class=\"value-gd-bottom\">\n",
    "\t\t\t\t\t\t\t   <div class=\"value-list\">\n",
    "\t\t\t\t\t\t\t</div>\n",
    "\t\t\t\t\t\t\t<div class=\"value-selet pric-sclr1\">\t\t    \t\t\t   \n",
    "\t\t\t\t\t\t\t\t<a href=\"https://www.tripadvisor.com/Attraction_Review-g298555-d9608957-Reviews-Yuexiu_Park-Guangzhou_Guangdong.html\" data-toggle=\"modal\" data-target=\"#myModal1\" >Outdoor</a>\n",
    "\t\t\t\t\t\t\t</div>\n",
    "\t\t\t\t\t\t</div>\n",
    "\t\t\t\t\t</div>\n",
    "\t\t\t\t</div>'''\n",
    "    else:\n",
    "        identifier = '''\t\t\t\t<div class=\"col-md-3 value-grid wthree lost\">\n",
    "\t\t\t\t\t<div class=\"value-block agile\">\n",
    "\t\t\t\t\t\t<div class=\"value-gd-top pric-clr4\">\n",
    "\t\t\t\t\t\t\t<h4>'''+Day+'''</h4>\n",
    "\t\t\t\t\t\t\t<h3>'''+str(pm_25)+'''</h3>\n",
    "\t\t\t\t\t\t\t<h5>'''+str(current_day)+'''</h5>\n",
    "\t\t\t\t\t\t</div>\n",
    "\t\t\t\t\t\t<div class=\"value-gd-bottom\">\n",
    "\t\t\t\t\t\t\t<div class=\"value-list\">\n",
    "\t\t\t\t\t\t\t</div>\n",
    "\t\t\t\t\t\t\t<div class=\"value-selet pric-sclr4\">\n",
    "\t\t\t\t\t\t\t\t<a href=\"https://www.amazon.com/s/ref=nb_sb_noss_2?url=search-alias%3Daps&field-keywords=PM2.5&rh=i%3Aaps%2Ck%3APM2.5\" data-toggle=\"modal\" data-target=\"#myModal1\" > Stay Indoor</a>\n",
    "\t\t\t\t\t\t\t</div>\n",
    "\t\t\t\t\t\t</div>\n",
    "\t\t\t\t\t</div>\n",
    "\t\t\t\t</div>'''\n",
    "    return identifier\n",
    "        \n",
    "def html_foot_generator():\n",
    "    text = '''\t\t\t\t<div class=\"clearfix\"> </div>\n",
    "\t\t\t</div>\n",
    "\t\t</div>\n",
    "\t</div>\n",
    "<br>\n",
    "<br>\n",
    "\t\t\t<!--w3agile_footer_copy -->\n",
    "\t\t\t<div class=\"w3agile_footer_copy\">\n",
    "\t\t\t\t    <p>Copyright &copy; 2017. WPI DS501 Team 4.</p>\n",
    "\t\t\t</div>\n",
    "</body>\n",
    "</html>\n",
    "'''\n",
    "    return text\n",
    "  "
   ]
  },
  {
   "cell_type": "code",
   "execution_count": null,
   "metadata": {},
   "outputs": [
    {
     "name": "stdout",
     "output_type": "stream",
     "text": [
      "Server Starts\n"
     ]
    }
   ],
   "source": [
    "#This part generate the Server\n",
    "import http.server\n",
    "import socketserver\n",
    "\n",
    "#PORT = 8000\n",
    "\n",
    "#Handler = http.server.SimpleHTTPRequestHandler\n",
    "\n",
    "\n",
    "\n",
    "\n",
    "#import BaseHTTPServer\n",
    "from socketserver import BaseServer, ThreadingTCPServer, TCPServer\n",
    "import threading\n",
    "from socketserver import ThreadingMixIn\n",
    "import urllib\n",
    "import os\n",
    "\n",
    "class WebRequestHandler(http.server.SimpleHTTPRequestHandler):\n",
    "\n",
    "    def do_GET(self):\n",
    "        if \"ico\" in self.path:\n",
    "            return\n",
    "        thread = threading.currentThread()\n",
    "        self.send_response(200)\n",
    "        print(self.path)\n",
    "        \n",
    "        if \"?\" in self.path:\n",
    "            self.send_header(\"Content-type\",\"text/html\")\n",
    "            self.end_headers()\n",
    "            if '?' not in self.path or '-' not in self.path:\n",
    "                self.wfile.write('Worong Format'.encode())\n",
    "            elif len(self.path.split('?')[1].split('-'))!=3 and len(self.path.split('?')[1].split('-'))!=4  :\n",
    "                self.wfile.write('Worong Format'.encode())\n",
    "                #current_date\n",
    "            else:\n",
    "                today = self.path.split('?')[1].split('-')\n",
    "                today_1 = today[0]\n",
    "                today_2 = delete_zero(today[1])\n",
    "                today_3 = delete_zero(today[2])\n",
    "                if len(today) ==4:\n",
    "                    hour = delete_zero(today[3])\n",
    "                else:\n",
    "                    hour = 0\n",
    "                tomorrow_1, tomorrow_2, tomorrow_3 = find_next_day(today_1, today_2, today_3)\n",
    "                two_days_later_1, two_days_later_2, two_days_later_3 = find_next_day(tomorrow_1, tomorrow_2, tomorrow_3)\n",
    "                three_days_later_1, three_days_later_2, three_days_later_3 = find_next_day(two_days_later_1, two_days_later_2, two_days_later_3)\n",
    "                text_1 = html_header_generator()\n",
    "                #print(text_1)\n",
    "                text_2 = html_data_generator(today_1, today_2, today_3, hour, 0)\n",
    "                #print(text_2)\n",
    "                text_3 = html_data_generator(tomorrow_1, tomorrow_2, tomorrow_3 , hour, 1)\n",
    "                #print(text_3)\n",
    "                text_4 = html_data_generator(two_days_later_1, two_days_later_2, two_days_later_3, hour, 2)\n",
    "                #print(text_4)\n",
    "                text_5 = html_data_generator(three_days_later_1, three_days_later_2, three_days_later_3, hour, 3)\n",
    "                #print(text_5)\n",
    "                text_6 = html_foot_generator()\n",
    "                #print(text_6)\n",
    "                final_text = text_1 + text_2 + text_3 + text_4 + text_5 + text_6\n",
    "                self.wfile.write(final_text.encode())\n",
    "                \n",
    "                \n",
    "        elif 'css' in self.path:\n",
    "            self.send_header(\"Content-type\",\"text/css\")\n",
    "            self.end_headers()\n",
    "        #self.send_header(“href”,”css/style.css”)\n",
    "            html_object = open(self.path[1:])\n",
    "            try:\n",
    "                all_the_text = html_object.read()\n",
    "            finally:\n",
    "                html_object.close()\n",
    "        #output = \"<html><head><title>PM2.5</title></head><body><p>Three days PM2.5: 56, 78, 91</p></body></html>\"\n",
    "        #print(all_the_text)    \n",
    "            self.wfile.write(all_the_text.encode())\n",
    "\n",
    "\n",
    "\n",
    "\n",
    "class ThreadingServer(ThreadingMixIn, TCPServer):\n",
    "    pass\n",
    "\n",
    "if __name__ == '__main__':\n",
    "    #server = TCPServer(('127.0.0.1', 6689), WebRequestHandler)\n",
    "    #try:\n",
    "    #    server.serve_forever()\n",
    "    #except:\n",
    "    #    pass\n",
    "    #server.server_close()\n",
    "    server = ThreadingServer(('127.0.0.1', 6671), WebRequestHandler)\n",
    "    thread = threading.Thread(target=server.serve_forever)\n",
    "    thread.start()\n",
    "    print (\"Server Starts\")\n",
    "    while True:\n",
    "        try:\n",
    "            continue\n",
    "        except:\n",
    "            print('Server Stops')\n",
    "            break"
   ]
  },
  {
   "cell_type": "markdown",
   "metadata": {},
   "source": [
    "Access by entering the URL with following format:localhost:6671/?year-month-day or localhost:6671/?year-month-day-hour\n",
    "* For example: [localhost:6671/?2013-01-16-4](127.0.0.1:6671/?2013-01-16-4)\n",
    "* To clearly see the performance, another two css files are needed."
   ]
  },
  {
   "cell_type": "markdown",
   "metadata": {},
   "source": [
    "*------------------------\n",
    "\n",
    "### Problem 4: Prepare a 90 second Pitch and *present* it in the class (20 points)\n",
    "\n",
    "* Prepare the slide(s) for the Pitch (10 points)\n",
    "* Present it in the class (10 points).\n",
    "\n",
    "*Advice:  It should really only be one or two slides, but a really good one or two slides!  Also, it is ok to select one person on the team to give the 90 second pitch (though a very organized multi-person 90 second pitch can be very impressive!) *\n",
    "\n"
   ]
  },
  {
   "cell_type": "markdown",
   "metadata": {},
   "source": [
    "# Report: communicate the results (20 points)\n",
    "\n",
    "(1) (5 points) What is your business proposition?\n",
    "\n",
    "(2) (5 points) Why this topic is interesting or important to you? (Motivations)\n",
    "\n",
    "(3) (5 points) How did you analyse the data?\n",
    "\n",
    "(4) (5 points) How does your analysis support your business proposition?\n",
    "(please include figures or tables in the report, but no source code)"
   ]
  },
  {
   "cell_type": "markdown",
   "metadata": {},
   "source": [
    "# Slides (for 10 minutes of presentation) (20 points)\n",
    "\n",
    "\n",
    "1. (5 points) Motivation about the data collection, why the topic is interesting to you. \n",
    "\n",
    "2. (10 points) Communicating Results (figure/table)\n",
    "\n",
    "3. (5 points) Story telling (How all the parts (data, analysis, result) fit together as a story?)"
   ]
  },
  {
   "cell_type": "markdown",
   "metadata": {},
   "source": [
    "*-----------------\n",
    "# Done\n",
    "\n",
    "All set! \n",
    "\n",
    "** What do you need to submit?**\n",
    "\n",
    "* **Notebook File**: Save this IPython notebook, and find the notebook file in your folder (for example, \"filename.ipynb\"). This is the file you need to submit. Please make sure all the plotted tables and figures are in the notebook. If you used \"ipython notebook --pylab=inline\" to open the notebook, all the figures and tables should have shown up in the notebook.\n",
    "\n",
    "\n",
    "* **PPT Slides**: **NOTE, for this Case Study you need to prepare two (2) PPT files!**  One for the 90 second Pitch and one for a normal 10 minute presentation.\n",
    "\n",
    "* ** Report**: please prepare a report (less than 10 pages) to report what you found in the data.\n",
    "\n",
    "     (please include figures or tables in the report, **but no source code**)\n",
    "\n",
    "*Please compress all the files into a single zipped file.*\n",
    "\n",
    "\n",
    "** How to submit: **\n",
    "\n",
    "        Please submit through email to Prof. Paffenroth (rcpaffenroth@wpi.edu) *and* the TA Yingnan Liu (yliu18@wpi.edu).\n",
    "\n",
    "#### We auto-process the submissions so make sure your subject line is *exactly*:\n",
    "\n",
    "### DS501 Case Study 4 Team ??\n",
    "\n",
    "#### where ?? is your team number.\n",
    "        \n",
    "** Note: Each team just needs to submits one submission **"
   ]
  },
  {
   "cell_type": "code",
   "execution_count": null,
   "metadata": {
    "collapsed": true
   },
   "outputs": [],
   "source": []
  }
 ],
 "metadata": {
  "kernelspec": {
   "display_name": "Python 3",
   "language": "python",
   "name": "python3"
  },
  "language_info": {
   "codemirror_mode": {
    "name": "ipython",
    "version": 3
   },
   "file_extension": ".py",
   "mimetype": "text/x-python",
   "name": "python",
   "nbconvert_exporter": "python",
   "pygments_lexer": "ipython3",
   "version": "3.6.1"
  }
 },
 "nbformat": 4,
 "nbformat_minor": 1
}
